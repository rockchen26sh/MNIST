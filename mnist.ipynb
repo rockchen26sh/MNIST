{
 "cells": [
  {
   "cell_type": "code",
   "execution_count": 1,
   "metadata": {
    "collapsed": true
   },
   "outputs": [],
   "source": [
    "import tensorflow as tf\n",
    "from tensorflow.examples.tutorials.mnist import input_data"
   ]
  },
  {
   "cell_type": "markdown",
   "metadata": {},
   "source": [
    "1. loss损失函数改用交叉熵\n",
    "2. 增加一层隐藏层，隐藏层有20个节点\n",
    "3. 使用relu激活函数\n",
    "4. 迭代50次后，准确率96%"
   ]
  },
  {
   "cell_type": "code",
   "execution_count": 2,
   "metadata": {},
   "outputs": [
    {
     "name": "stdout",
     "output_type": "stream",
     "text": [
      "Extracting ./dataset/MNIST_data/train-images-idx3-ubyte.gz\n",
      "Extracting ./dataset/MNIST_data/train-labels-idx1-ubyte.gz\n",
      "Extracting ./dataset/MNIST_data/t10k-images-idx3-ubyte.gz\n",
      "Extracting ./dataset/MNIST_data/t10k-labels-idx1-ubyte.gz\n",
      "Iter 10, Testing Accuracy: 0.952400\n",
      "Iter 20, Testing Accuracy: 0.957500\n",
      "Iter 30, Testing Accuracy: 0.960500\n",
      "Iter 40, Testing Accuracy: 0.959900\n",
      "Iter 50, Testing Accuracy: 0.961000\n"
     ]
    }
   ],
   "source": [
    "# Load dataset\n",
    "mnist = input_data.read_data_sets('./dataset/MNIST_data',one_hot=True)\n",
    "\n",
    "# param set\n",
    "batch_size = 100                                  #单批次数据量\n",
    "n_batch = mnist.train.num_examples // batch_size  #批次数量\n",
    "hidden_layer_node = 20                            #隐藏层节点数\n",
    "output_layer_node = 10                            #输出层节点数\n",
    "steps = 50                                        #训练迭代次数\n",
    "lr = 0.1                                          #学习速率\n",
    "\n",
    "# 训练数据插入点\n",
    "x = tf.placeholder(tf.float32,[None,784])\n",
    "y = tf.placeholder(tf.float32,[None,output_layer_node])\n",
    "\n",
    "# weight & biases\n",
    "hidden_layer_w = tf.Variable(tf.truncated_normal([784,hidden_layer_node],stddev=0.1))\n",
    "hidden_layer_b = tf.Variable(tf.constant(0.1,shape=[hidden_layer_node]))\n",
    "out_layer_w = tf.Variable(tf.truncated_normal([hidden_layer_node,output_layer_node],stddev=0.1))\n",
    "out_layer_b = tf.Variable(tf.constant(0.1,shape=[output_layer_node]))\n",
    "\n",
    "\n",
    "# 创建神经网络\n",
    "hidden_layer = tf.nn.relu(tf.matmul(x,hidden_layer_w) + hidden_layer_b)\n",
    "prediction = tf.nn.relu(tf.matmul(hidden_layer,out_layer_w) + out_layer_b)\n",
    "\n",
    "# 损失函数\n",
    "loss = tf.reduce_mean(tf.nn.sparse_softmax_cross_entropy_with_logits(labels=tf.argmax(y,1),logits=prediction))\n",
    "\n",
    "# 定义训练方式\n",
    "train_step = tf.train.GradientDescentOptimizer(lr).minimize(loss)\n",
    "\n",
    "#初始化变量\n",
    "init = tf.global_variables_initializer()\n",
    "\n",
    "#准确率\n",
    "correct_prediction = tf.equal(tf.argmax(y,1),tf.argmax(prediction,1))\n",
    "accuracy = tf.reduce_mean(tf.cast(correct_prediction,tf.float32))\n",
    "\n",
    "# runtime\n",
    "with tf.Session() as sess:\n",
    "    #初始化变量\n",
    "    sess.run(init)\n",
    "    for i in range(steps):\n",
    "        for batch in range(n_batch):\n",
    "            x_train,y_train = mnist.train.next_batch(batch)\n",
    "            sess.run(train_step,feed_dict={x:x_train,y:y_train})\n",
    "        if (i+1) % 10 ==0:\n",
    "            acc = sess.run(accuracy,feed_dict={x:mnist.test.images,y:mnist.test.labels})\n",
    "            print('Iter %d, Testing Accuracy: %f' % (i+1,acc))\n"
   ]
  },
  {
   "cell_type": "code",
   "execution_count": null,
   "metadata": {
    "collapsed": true
   },
   "outputs": [],
   "source": []
  }
 ],
 "metadata": {
  "kernelspec": {
   "display_name": "Python 3",
   "language": "python",
   "name": "python3"
  },
  "language_info": {
   "codemirror_mode": {
    "name": "ipython",
    "version": 3
   },
   "file_extension": ".py",
   "mimetype": "text/x-python",
   "name": "python",
   "nbconvert_exporter": "python",
   "pygments_lexer": "ipython3",
   "version": "3.5.3"
  }
 },
 "nbformat": 4,
 "nbformat_minor": 2
}
