{
 "cells": [
  {
   "cell_type": "code",
   "execution_count": 3,
   "metadata": {
    "collapsed": true
   },
   "outputs": [],
   "source": [
    "from hyperopt import hp,tpe,fmin\n",
    "import tensorflow as tf\n",
    "import numpy as np\n",
    "from tensorflow.examples.tutorials.mnist import input_data"
   ]
  },
  {
   "cell_type": "code",
   "execution_count": 4,
   "metadata": {},
   "outputs": [
    {
     "name": "stdout",
     "output_type": "stream",
     "text": [
      "Extracting ./dataset/MNIST_data/train-images-idx3-ubyte.gz\n",
      "Extracting ./dataset/MNIST_data/train-labels-idx1-ubyte.gz\n",
      "Extracting ./dataset/MNIST_data/t10k-images-idx3-ubyte.gz\n",
      "Extracting ./dataset/MNIST_data/t10k-labels-idx1-ubyte.gz\n"
     ]
    }
   ],
   "source": [
    "# Load dataset\n",
    "mnist = input_data.read_data_sets('./dataset/MNIST_data',one_hot=True)"
   ]
  },
  {
   "cell_type": "code",
   "execution_count": 3,
   "metadata": {},
   "outputs": [],
   "source": [
    "batch_size = 2000                                  #单批次数据量\n",
    "hidden_layer1_node = 500                         #隐藏层1节点数\n",
    "hidden_layer2_node = 300                         #隐藏层2节点数\n",
    "output_layer_node = 10                            #输出层节点数\n",
    "steps = 500                                        #训练迭代次数\n",
    "lr = 0.3                                          #学习速率\n",
    "regularization_rate = 0.0015                       #正则化系数\n",
    "#image_num = 300"
   ]
  },
  {
   "cell_type": "code",
   "execution_count": 14,
   "metadata": {},
   "outputs": [],
   "source": [
    "def nn_train(batch_size,hidden_layer1_node,hidden_layer2_node,output_layer_node,steps,lr,regularization_rate):\n",
    "    from hyperopt import hp,tpe,fmin\n",
    "    import tensorflow as tf\n",
    "    import numpy as np\n",
    "    from tensorflow.examples.tutorials.mnist import input_data\n",
    "    \n",
    "    # Load dataset\n",
    "    mnist = input_data.read_data_sets('./dataset/MNIST_data',one_hot=True)\n",
    "    \n",
    "    #插入点\n",
    "    x = tf.placeholder(tf.float32,[None,784])\n",
    "    y = tf.placeholder(tf.float32,[None,output_layer_node])\n",
    "    keep_prob = tf.placeholder(tf.float32)\n",
    "    \n",
    "    #变量\n",
    "    w1 = tf.Variable(tf.truncated_normal(shape=[784,hidden_layer1_node],stddev=0.1))\n",
    "    w2 = tf.Variable(tf.truncated_normal(shape=[hidden_layer1_node,hidden_layer2_node],stddev=0.1))\n",
    "    w3 = tf.Variable(tf.truncated_normal(shape=[hidden_layer2_node,output_layer_node],stddev=0.1))\n",
    "    b1 = tf.Variable(tf.constant(0.1,shape=[hidden_layer1_node]),name='b1')\n",
    "    b2 = tf.Variable(tf.constant(0.1,shape=[hidden_layer2_node]),name='b2')\n",
    "    b3 = tf.Variable(tf.constant(0.1,shape=[output_layer_node]),name='b3')\n",
    "    \n",
    "    #神经网络结构\n",
    "    hidden_layer1 = tf.matmul(x,w1) + b1\n",
    "    hidden_layer1 = tf.nn.relu(hidden_layer1)\n",
    "    hidden_layer1 = tf.nn.dropout(x=hidden_layer1,keep_prob=keep_prob)\n",
    "    \n",
    "    hidden_layer2 = tf.matmul(hidden_layer1,w2) + b2\n",
    "    hidden_layer2 = tf.nn.relu(hidden_layer2)\n",
    "    hidden_layer2 = tf.nn.dropout(x=hidden_layer2,keep_prob=keep_prob)\n",
    "    \n",
    "    out_layer = tf.matmul(hidden_layer2,w3) + b3\n",
    "    \n",
    "    #正则化\n",
    "    regular = tf.contrib.layers.l2_regularizer(regularization_rate)\n",
    "    regularization = regular(w1) + regular(w2) + regular(w3)\n",
    "    \n",
    "    #Cost Function\n",
    "    loss = tf.reduce_mean(tf.nn.softmax_cross_entropy_with_logits(logits=out_layer,labels=y)) + regularization\n",
    "    \n",
    "    #optimi\n",
    "    train_step = tf.train.AdadeltaOptimizer(lr).minimize(loss)\n",
    "    \n",
    "    #accuracy cal\n",
    "    correct_prediction = tf.equal(tf.argmax(out_layer),tf.argmax(y))\n",
    "    accuracy = tf.reduce_mean(tf.cast(correct_prediction,tf.float32))\n",
    "    \n",
    "    #session\n",
    "    with tf.Session() as sess:\n",
    "        tf.global_variables_initializer().run()\n",
    "        for i in range(steps):\n",
    "            x_train,y_train = mnist.train.next_batch(i)\n",
    "            sess.run(train_step,feed_dict={x:x_train,y:y_train,keep_prob:1.0})\n",
    "            if i % 50 == 0:\n",
    "                acc = sess.run(accuracy,feed_dict={x:mnist.test.images,y:mnist.test.labels,keep_prob:1.0}) \n",
    "                print('Iter %d, Testing Accuracy: %f' % (i+1,acc))\n",
    "        return sess.run(loss,feed_dict={x:mnist.train.images,y:mnist.train.labels,keep_prob:1.0})"
   ]
  },
  {
   "cell_type": "code",
   "execution_count": 15,
   "metadata": {},
   "outputs": [
    {
     "name": "stdout",
     "output_type": "stream",
     "text": [
      "Extracting ./dataset/MNIST_data/train-images-idx3-ubyte.gz\n",
      "Extracting ./dataset/MNIST_data/train-labels-idx1-ubyte.gz\n",
      "Extracting ./dataset/MNIST_data/t10k-images-idx3-ubyte.gz\n",
      "Extracting ./dataset/MNIST_data/t10k-labels-idx1-ubyte.gz\n",
      "Iter 1, Testing Accuracy: 0.000000\n",
      "Iter 51, Testing Accuracy: 0.000000\n",
      "Iter 101, Testing Accuracy: 0.000000\n",
      "Iter 151, Testing Accuracy: 0.000000\n",
      "Iter 201, Testing Accuracy: 0.000000\n",
      "Iter 251, Testing Accuracy: 0.000000\n",
      "Iter 301, Testing Accuracy: 0.000000\n",
      "Iter 351, Testing Accuracy: 0.000000\n",
      "Iter 401, Testing Accuracy: 0.000000\n",
      "Iter 451, Testing Accuracy: 0.000000\n"
     ]
    },
    {
     "data": {
      "text/plain": [
       "2.886658"
      ]
     },
     "execution_count": 15,
     "metadata": {},
     "output_type": "execute_result"
    }
   ],
   "source": [
    "nn_train(2000,hidden_layer1_node,hidden_layer2_node,output_layer_node,steps,lr,regularization_rate)"
   ]
  },
  {
   "cell_type": "code",
   "execution_count": null,
   "metadata": {
    "collapsed": true
   },
   "outputs": [],
   "source": [
    ""
   ]
  }
 ],
 "metadata": {
  "kernelspec": {
   "display_name": "Python 3",
   "language": "python",
   "name": "python3"
  },
  "language_info": {
   "codemirror_mode": {
    "name": "ipython",
    "version": 3.0
   },
   "file_extension": ".py",
   "mimetype": "text/x-python",
   "name": "python",
   "nbconvert_exporter": "python",
   "pygments_lexer": "ipython3",
   "version": "3.5.3"
  }
 },
 "nbformat": 4,
 "nbformat_minor": 0
}