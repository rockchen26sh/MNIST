{
 "cells": [
  {
   "cell_type": "code",
   "execution_count": 1,
   "metadata": {
    "collapsed": true
   },
   "outputs": [],
   "source": [
    "import tensorflow as tf\n",
    "from tensorflow.examples.tutorials.mnist import input_data"
   ]
  },
  {
   "cell_type": "code",
   "execution_count": 2,
   "metadata": {
    "scrolled": false
   },
   "outputs": [
    {
     "name": "stdout",
     "output_type": "stream",
     "text": [
      "Extracting MNIST_data/train-images-idx3-ubyte.gz\n",
      "Extracting MNIST_data/train-labels-idx1-ubyte.gz\n",
      "Extracting MNIST_data/t10k-images-idx3-ubyte.gz\n",
      "Extracting MNIST_data/t10k-labels-idx1-ubyte.gz\n",
      "iter 0, Testing Accuracy:0.670400\n",
      "[ 50  28 100]\n",
      "[ 50 100]\n",
      "[ 50 100]\n",
      "iter 1, Testing Accuracy:0.826100\n",
      "[ 50  28 100]\n",
      "[ 50 100]\n",
      "[ 50 100]\n",
      "iter 2, Testing Accuracy:0.881200\n",
      "[ 50  28 100]\n",
      "[ 50 100]\n",
      "[ 50 100]\n",
      "iter 3, Testing Accuracy:0.898400\n",
      "[ 50  28 100]\n",
      "[ 50 100]\n",
      "[ 50 100]\n",
      "iter 4, Testing Accuracy:0.910400\n",
      "[ 50  28 100]\n",
      "[ 50 100]\n",
      "[ 50 100]\n",
      "iter 5, Testing Accuracy:0.925900\n",
      "[ 50  28 100]\n",
      "[ 50 100]\n",
      "[ 50 100]\n"
     ]
    }
   ],
   "source": [
    "mnist = input_data.read_data_sets('MNIST_data/',one_hot=True)\n",
    "\n",
    "# 输入图片28*28\n",
    "n_inputs = 28\n",
    "max_time = 28\n",
    "lstm_size = 100 #num of hidden layer node\n",
    "n_classes = 10 #10 of the classifer\n",
    "batch_size = 50 #50 of each batch \n",
    "n_batch = mnist.train.num_examples // batch_size\n",
    "\n",
    "#input data\n",
    "x = tf.placeholder(tf.float32,[None,784])\n",
    "\n",
    "y = tf.placeholder(tf.float32,[None,10])\n",
    "\n",
    "# variables\n",
    "weights = tf.Variable(tf.truncated_normal([lstm_size,n_classes], stddev=0.1))\n",
    "biases = tf.Variable(tf.constant(0.1, shape=[n_classes]))\n",
    "\n",
    "# Network by RNN\n",
    "\n",
    "#[time, batch, depth]\n",
    "inputs = tf.reshape(x,[-1,max_time,n_inputs])\n",
    "#LSTM CELL\n",
    "lstm_cell = tf.contrib.rnn.core_rnn_cell.BasicLSTMCell(lstm_size)\n",
    "\n",
    "outputs,final_state = tf.nn.dynamic_rnn(lstm_cell, inputs, dtype = tf.float32)\n",
    "\n",
    "#prediction\n",
    "prediction = tf.nn.softmax(tf.matmul(final_state[1], weights) + biases)\n",
    "\n",
    "\n",
    "\n",
    "#Cost function\n",
    "cross_entropy = tf.reduce_mean(tf.nn.softmax_cross_entropy_with_logits(logits=prediction,labels=y))\n",
    "\n",
    "#Train step\n",
    "train_step = tf.train.AdamOptimizer(1e-4).minimize(cross_entropy)\n",
    "\n",
    "#correct_prediction\n",
    "correct_prediction = tf.equal(tf.argmax(y,1),tf.argmax(prediction,1))\n",
    "\n",
    "#Accuracy\n",
    "accuracy = tf.reduce_mean(tf.cast(correct_prediction,tf.float32))\n",
    "\n",
    "#initializer\n",
    "init = tf.global_variables_initializer()\n",
    "\n",
    "#session run time\n",
    "with tf.Session() as sess:\n",
    "    sess.run(init)\n",
    "    for epoch in range(6):\n",
    "        for batch in range(n_batch):\n",
    "            batch_xs,batch_ys = mnist.train.next_batch(batch_size)\n",
    "            sess.run(train_step,feed_dict = {x:batch_xs,y:batch_ys})\n",
    "            \n",
    "        acc = sess.run(accuracy,feed_dict = {x:mnist.test.images,y:mnist.test.labels})\n",
    "        print(\"iter %d, Testing Accuracy:%f\" %(epoch,acc))\n",
    "        print(sess.run(tf.shape(outputs),feed_dict = {x:batch_xs,y:batch_ys}))\n",
    "        print(sess.run(tf.shape(final_state[0]),feed_dict = {x:batch_xs,y:batch_ys}))\n",
    "        print(sess.run(tf.shape(final_state[1]),feed_dict = {x:batch_xs,y:batch_ys}))"
   ]
  },
  {
   "cell_type": "code",
   "execution_count": null,
   "metadata": {
    "collapsed": true
   },
   "outputs": [],
   "source": []
  }
 ],
 "metadata": {
  "kernelspec": {
   "display_name": "Python 3",
   "language": "python",
   "name": "python3"
  },
  "language_info": {
   "codemirror_mode": {
    "name": "ipython",
    "version": 3
   },
   "file_extension": ".py",
   "mimetype": "text/x-python",
   "name": "python",
   "nbconvert_exporter": "python",
   "pygments_lexer": "ipython3",
   "version": "3.5.3"
  }
 },
 "nbformat": 4,
 "nbformat_minor": 2
}
